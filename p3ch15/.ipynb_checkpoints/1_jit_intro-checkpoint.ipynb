{
 "cells": [
  {
   "cell_type": "code",
   "execution_count": 1,
   "metadata": {},
   "outputs": [
    {
     "name": "stderr",
     "output_type": "stream",
     "text": [
      "C:\\Users\\Jorrit\\Miniconda3\\lib\\site-packages\\numpy\\_distributor_init.py:32: UserWarning: loaded more than 1 DLL from .libs:\n",
      "C:\\Users\\Jorrit\\Miniconda3\\lib\\site-packages\\numpy\\.libs\\libopenblas.TXA6YQSD3GCQQC22GEQ54J2UDCXDXHWN.gfortran-win_amd64.dll\n",
      "C:\\Users\\Jorrit\\Miniconda3\\lib\\site-packages\\numpy\\.libs\\libopenblas.WCDJNK7YVMPZQ2ME2ZZHJJRJ3JIKNDB7.gfortran-win_amd64.dll\n",
      "  stacklevel=1)\n"
     ]
    }
   ],
   "source": [
    "import torch\n",
    "import re\n",
    "def xprint(s):\n",
    "    s = str(s)\n",
    "    s = re.sub(' *#.*','',s)\n",
    "    print(s)"
   ]
  },
  {
   "cell_type": "code",
   "execution_count": 2,
   "metadata": {},
   "outputs": [],
   "source": [
    "def myfn(x):\n",
    "    y = x[0]\n",
    "    for i in range(1, x.size(0)):\n",
    "        y = y + x[i]\n",
    "    return y"
   ]
  },
  {
   "cell_type": "code",
   "execution_count": 3,
   "metadata": {
    "scrolled": true
   },
   "outputs": [
    {
     "name": "stdout",
     "output_type": "stream",
     "text": [
      "def myfn(x: Tensor) -> Tensor:\n",
      "  y = torch.select(x, 0, 0)\n",
      "  y0 = torch.add(y, torch.select(x, 0, 1))\n",
      "  y1 = torch.add(y0, torch.select(x, 0, 2))\n",
      "  y2 = torch.add(y1, torch.select(x, 0, 3))\n",
      "  return torch.add(y2, torch.select(x, 0, 4))\n",
      "\n"
     ]
    }
   ],
   "source": [
    "inp = torch.randn(5,5)\n",
    "traced_fn = torch.jit.trace(myfn, inp)\n",
    "print(traced_fn.code)"
   ]
  },
  {
   "cell_type": "code",
   "execution_count": 4,
   "metadata": {
    "scrolled": true
   },
   "outputs": [
    {
     "name": "stdout",
     "output_type": "stream",
     "text": [
      "def myfn(x: Tensor) -> Tensor:\n",
      "  y = torch.select(x, 0, 0)\n",
      "  _0 = torch.__range_length(1, torch.size(x, 0), 1)\n",
      "  y0 = y\n",
      "  for _1 in range(_0):\n",
      "    i = torch.__derive_index(_1, 1, 1)\n",
      "    y1 = torch.add(y0, torch.select(x, 0, i))\n",
      "    y0 = y1\n",
      "  return y0\n",
      "\n"
     ]
    }
   ],
   "source": [
    "scripted_fn = torch.jit.script(myfn)\n",
    "print(scripted_fn.code)"
   ]
  },
  {
   "cell_type": "code",
   "execution_count": 5,
   "metadata": {
    "scrolled": true
   },
   "outputs": [
    {
     "name": "stdout",
     "output_type": "stream",
     "text": [
      "graph(%x.1 : Tensor):\n",
      "  %10 : bool = prim::Constant[value=1]()\n",
      "  %2 : int = prim::Constant[value=0]()\n",
      "  %5 : int = prim::Constant[value=1]()\n",
      "  %y.1 : Tensor = aten::select(%x.1, %2, %2)\n",
      "  %7 : int = aten::size(%x.1, %2)\n",
      "  %9 : int = aten::__range_length(%5, %7, %5)\n",
      "  %y : Tensor = prim::Loop(%9, %10, %y.1)\n",
      "    block0(%11 : int, %y.11 : Tensor):\n",
      "      %i.1 : int = aten::__derive_index(%11, %5, %5)\n",
      "      %19 : Tensor = aten::select(%x.1, %2, %i.1)\n",
      "      %y.5 : Tensor = aten::add(%y.11, %19, %5)\n",
      "      -> (%10, %y.5)\n",
      "  return (%y)\n",
      "\n"
     ]
    }
   ],
   "source": [
    "xprint(scripted_fn.graph)"
   ]
  },
  {
   "cell_type": "code",
   "execution_count": 6,
   "metadata": {},
   "outputs": [],
   "source": [
    "import sys\n",
    "sys.path.append('..')"
   ]
  },
  {
   "cell_type": "code",
   "execution_count": 8,
   "metadata": {},
   "outputs": [],
   "source": [
    "from p2ch13.model import UNetWrapper"
   ]
  },
  {
   "cell_type": "code",
   "execution_count": 13,
   "metadata": {},
   "outputs": [
    {
     "name": "stderr",
     "output_type": "stream",
     "text": [
      "C:\\Users\\Jorrit\\Miniconda3\\lib\\site-packages\\torch\\_tensor.py:575: UserWarning: floor_divide is deprecated, and will be removed in a future version of pytorch. It currently rounds toward 0 (like the 'trunc' function NOT 'floor'). This results in incorrect rounding for negative values.\n",
      "To keep the current behavior, use torch.div(a, b, rounding_mode='trunc'), or for actual floor division, use torch.div(a, b, rounding_mode='floor'). (Triggered internally at  ..\\aten\\src\\ATen\\native\\BinaryOps.cpp:467.)\n",
      "  return torch.floor_divide(self, other)\n"
     ]
    }
   ],
   "source": [
    "seg_dict = torch.load('../data/part2/models/seg_2019-06-22_22.55.11_ch12-no-aug-bn-all-metrics-more-samples.750000.state', map_location='cpu')\n",
    "seg_model = UNetWrapper(in_channels=8, n_classes=1, depth=4, wf=3, padding=True, batch_norm=True, up_mode='upconv')\n",
    "seg_model.load_state_dict(seg_dict['model_state'])\n",
    "seg_model.eval()\n",
    "for p in seg_model.parameters():\n",
    "    p.requires_grad_(False)\n",
    "\n",
    "dummy_input = torch.randn(1, 8, 512, 512)\n",
    "traced_seg_model = torch.jit.trace(seg_model, dummy_input)"
   ]
  },
  {
   "cell_type": "code",
   "execution_count": null,
   "metadata": {},
   "outputs": [],
   "source": [
    "torch.jit.save(traced_seg_model, 'traced_seg_model.pt')"
   ]
  }
 ],
 "metadata": {
  "kernelspec": {
   "display_name": "Python 3",
   "language": "python",
   "name": "python3"
  },
  "language_info": {
   "codemirror_mode": {
    "name": "ipython",
    "version": 3
   },
   "file_extension": ".py",
   "mimetype": "text/x-python",
   "name": "python",
   "nbconvert_exporter": "python",
   "pygments_lexer": "ipython3",
   "version": "3.7.1"
  }
 },
 "nbformat": 4,
 "nbformat_minor": 2
}
